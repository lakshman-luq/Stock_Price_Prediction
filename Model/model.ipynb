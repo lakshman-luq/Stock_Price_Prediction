{
 "metadata": {
  "language_info": {
   "codemirror_mode": {
    "name": "ipython",
    "version": 3
   },
   "file_extension": ".py",
   "mimetype": "text/x-python",
   "name": "python",
   "nbconvert_exporter": "python",
   "pygments_lexer": "ipython3",
   "version": "3.7.9-final"
  },
  "orig_nbformat": 2,
  "kernelspec": {
   "name": "python3",
   "display_name": "Python 3",
   "language": "python"
  }
 },
 "nbformat": 4,
 "nbformat_minor": 2,
 "cells": [
  {
   "cell_type": "code",
   "execution_count": 21,
   "metadata": {},
   "outputs": [],
   "source": [
    "#Lets see how to predict stock price using ML techniques\n",
    "# import necessary libraries\n",
    "import numpy as np \n",
    "import pandas as pd  \n",
    "from sklearn import preprocessing\n",
    "from sklearn.model_selection import train_test_split\n",
    "from sklearn.linear_model import LinearRegression\n",
    "import matplotlib.pyplot as plt\n",
    "import seaborn as sns"
   ]
  },
  {
   "cell_type": "code",
   "execution_count": 22,
   "metadata": {},
   "outputs": [
    {
     "output_type": "execute_result",
     "data": {
      "text/plain": [
       "         Date        Open        High         Low       Close   Adj Close  \\\n",
       "0  2016-02-14  392.932007  407.230011  392.932007  407.230011  407.230011   \n",
       "1  2016-02-15  407.567993  410.381012  397.748993  400.184998  400.184998   \n",
       "2  2016-02-16  401.432007  408.945007  401.432007  407.488007  407.488007   \n",
       "3  2016-02-17  407.656006  421.166992  406.783997  416.321991  416.321991   \n",
       "4  2016-02-18  416.571991  425.996002  415.638000  422.372986  422.372986   \n",
       "\n",
       "       Volume  \n",
       "0  74469800.0  \n",
       "1  74070496.0  \n",
       "2  73093104.0  \n",
       "3  83193600.0  \n",
       "4  76752600.0  "
      ],
      "text/html": "<div>\n<style scoped>\n    .dataframe tbody tr th:only-of-type {\n        vertical-align: middle;\n    }\n\n    .dataframe tbody tr th {\n        vertical-align: top;\n    }\n\n    .dataframe thead th {\n        text-align: right;\n    }\n</style>\n<table border=\"1\" class=\"dataframe\">\n  <thead>\n    <tr style=\"text-align: right;\">\n      <th></th>\n      <th>Date</th>\n      <th>Open</th>\n      <th>High</th>\n      <th>Low</th>\n      <th>Close</th>\n      <th>Adj Close</th>\n      <th>Volume</th>\n    </tr>\n  </thead>\n  <tbody>\n    <tr>\n      <th>0</th>\n      <td>2016-02-14</td>\n      <td>392.932007</td>\n      <td>407.230011</td>\n      <td>392.932007</td>\n      <td>407.230011</td>\n      <td>407.230011</td>\n      <td>74469800.0</td>\n    </tr>\n    <tr>\n      <th>1</th>\n      <td>2016-02-15</td>\n      <td>407.567993</td>\n      <td>410.381012</td>\n      <td>397.748993</td>\n      <td>400.184998</td>\n      <td>400.184998</td>\n      <td>74070496.0</td>\n    </tr>\n    <tr>\n      <th>2</th>\n      <td>2016-02-16</td>\n      <td>401.432007</td>\n      <td>408.945007</td>\n      <td>401.432007</td>\n      <td>407.488007</td>\n      <td>407.488007</td>\n      <td>73093104.0</td>\n    </tr>\n    <tr>\n      <th>3</th>\n      <td>2016-02-17</td>\n      <td>407.656006</td>\n      <td>421.166992</td>\n      <td>406.783997</td>\n      <td>416.321991</td>\n      <td>416.321991</td>\n      <td>83193600.0</td>\n    </tr>\n    <tr>\n      <th>4</th>\n      <td>2016-02-18</td>\n      <td>416.571991</td>\n      <td>425.996002</td>\n      <td>415.638000</td>\n      <td>422.372986</td>\n      <td>422.372986</td>\n      <td>76752600.0</td>\n    </tr>\n  </tbody>\n</table>\n</div>"
     },
     "metadata": {},
     "execution_count": 22
    }
   ],
   "source": [
    "# import the data using pandas \n",
    "df = pd.read_csv('../Data/dataset.csv')\n",
    "df.head()"
   ]
  },
  {
   "cell_type": "code",
   "execution_count": 23,
   "metadata": {},
   "outputs": [
    {
     "output_type": "execute_result",
     "data": {
      "text/plain": [
       "               Open          High           Low         Close     Adj Close  \\\n",
       "count   1824.000000   1824.000000   1824.000000   1824.000000   1824.000000   \n",
       "mean    6997.507543   7193.644833   6799.439468   7021.818023   7021.818023   \n",
       "std     6643.642365   6907.088807   6387.026749   6704.093976   6704.093976   \n",
       "min      392.932007    407.230011    392.932007    400.184998    400.184998   \n",
       "25%     1795.737488   1850.485015   1718.399994   1807.910034   1807.910034   \n",
       "50%     6572.784912   6674.324952   6453.779785   6578.659912   6578.659912   \n",
       "75%     9361.835449   9540.433594   9231.055664   9375.034424   9375.034424   \n",
       "max    48483.144531  49485.171875  47127.769531  48832.718750  48832.718750   \n",
       "\n",
       "             Volume  \n",
       "count  1.824000e+03  \n",
       "mean   1.314212e+10  \n",
       "std    1.632261e+10  \n",
       "min    2.851400e+07  \n",
       "25%    7.868065e+08  \n",
       "50%    5.864455e+09  \n",
       "75%    2.026759e+10  \n",
       "max    1.233206e+11  "
      ],
      "text/html": "<div>\n<style scoped>\n    .dataframe tbody tr th:only-of-type {\n        vertical-align: middle;\n    }\n\n    .dataframe tbody tr th {\n        vertical-align: top;\n    }\n\n    .dataframe thead th {\n        text-align: right;\n    }\n</style>\n<table border=\"1\" class=\"dataframe\">\n  <thead>\n    <tr style=\"text-align: right;\">\n      <th></th>\n      <th>Open</th>\n      <th>High</th>\n      <th>Low</th>\n      <th>Close</th>\n      <th>Adj Close</th>\n      <th>Volume</th>\n    </tr>\n  </thead>\n  <tbody>\n    <tr>\n      <th>count</th>\n      <td>1824.000000</td>\n      <td>1824.000000</td>\n      <td>1824.000000</td>\n      <td>1824.000000</td>\n      <td>1824.000000</td>\n      <td>1.824000e+03</td>\n    </tr>\n    <tr>\n      <th>mean</th>\n      <td>6997.507543</td>\n      <td>7193.644833</td>\n      <td>6799.439468</td>\n      <td>7021.818023</td>\n      <td>7021.818023</td>\n      <td>1.314212e+10</td>\n    </tr>\n    <tr>\n      <th>std</th>\n      <td>6643.642365</td>\n      <td>6907.088807</td>\n      <td>6387.026749</td>\n      <td>6704.093976</td>\n      <td>6704.093976</td>\n      <td>1.632261e+10</td>\n    </tr>\n    <tr>\n      <th>min</th>\n      <td>392.932007</td>\n      <td>407.230011</td>\n      <td>392.932007</td>\n      <td>400.184998</td>\n      <td>400.184998</td>\n      <td>2.851400e+07</td>\n    </tr>\n    <tr>\n      <th>25%</th>\n      <td>1795.737488</td>\n      <td>1850.485015</td>\n      <td>1718.399994</td>\n      <td>1807.910034</td>\n      <td>1807.910034</td>\n      <td>7.868065e+08</td>\n    </tr>\n    <tr>\n      <th>50%</th>\n      <td>6572.784912</td>\n      <td>6674.324952</td>\n      <td>6453.779785</td>\n      <td>6578.659912</td>\n      <td>6578.659912</td>\n      <td>5.864455e+09</td>\n    </tr>\n    <tr>\n      <th>75%</th>\n      <td>9361.835449</td>\n      <td>9540.433594</td>\n      <td>9231.055664</td>\n      <td>9375.034424</td>\n      <td>9375.034424</td>\n      <td>2.026759e+10</td>\n    </tr>\n    <tr>\n      <th>max</th>\n      <td>48483.144531</td>\n      <td>49485.171875</td>\n      <td>47127.769531</td>\n      <td>48832.718750</td>\n      <td>48832.718750</td>\n      <td>1.233206e+11</td>\n    </tr>\n  </tbody>\n</table>\n</div>"
     },
     "metadata": {},
     "execution_count": 23
    }
   ],
   "source": [
    "df.describe()"
   ]
  },
  {
   "cell_type": "code",
   "execution_count": 24,
   "metadata": {},
   "outputs": [
    {
     "output_type": "stream",
     "name": "stdout",
     "text": [
      "<class 'pandas.core.frame.DataFrame'>\nRangeIndex: 1828 entries, 0 to 1827\nData columns (total 7 columns):\n #   Column     Non-Null Count  Dtype  \n---  ------     --------------  -----  \n 0   Date       1828 non-null   object \n 1   Open       1824 non-null   float64\n 2   High       1824 non-null   float64\n 3   Low        1824 non-null   float64\n 4   Close      1824 non-null   float64\n 5   Adj Close  1824 non-null   float64\n 6   Volume     1824 non-null   float64\ndtypes: float64(6), object(1)\nmemory usage: 100.1+ KB\n"
     ]
    }
   ],
   "source": [
    "df.info()"
   ]
  },
  {
   "cell_type": "code",
   "execution_count": 25,
   "metadata": {},
   "outputs": [],
   "source": [
    "df = df.dropna(inplace=True)"
   ]
  },
  {
   "cell_type": "code",
   "execution_count": null,
   "metadata": {},
   "outputs": [],
   "source": []
  }
 ]
}